{
 "cells": [
  {
   "cell_type": "code",
   "execution_count": 1,
   "id": "181dc0ee-37b7-476f-ab39-04c120e85b8e",
   "metadata": {},
   "outputs": [],
   "source": [
    "import openai"
   ]
  },
  {
   "cell_type": "code",
   "execution_count": 2,
   "id": "2c894644-a4df-4bf2-9a75-e683ba815b97",
   "metadata": {},
   "outputs": [],
   "source": [
    "from openai import OpenAI"
   ]
  },
  {
   "cell_type": "code",
   "execution_count": null,
   "id": "ae5321f2-9b7d-4e47-aff0-b452a1ed0341",
   "metadata": {},
   "outputs": [],
   "source": [
    "client = OpenAI()"
   ]
  },
  {
   "cell_type": "code",
   "execution_count": null,
   "id": "dcfe8257-ceee-498f-a29b-05e2cfeb2fa2",
   "metadata": {
    "scrolled": true
   },
   "outputs": [],
   "source": [
    "client.chat.completions.create(\n",
    "    model =\"gpt-4o\",\n",
    "    messages =[{\"role\":\"user\", \"content\":\"is it too late to join the course?\"}]\n",
    ")"
   ]
  },
  {
   "cell_type": "code",
   "execution_count": null,
   "id": "05620686-d074-4bce-8015-5887b842b46f",
   "metadata": {},
   "outputs": [],
   "source": []
  }
 ],
 "metadata": {
  "kernelspec": {
   "display_name": "Python 3 (ipykernel)",
   "language": "python",
   "name": "python3"
  },
  "language_info": {
   "codemirror_mode": {
    "name": "ipython",
    "version": 3
   },
   "file_extension": ".py",
   "mimetype": "text/x-python",
   "name": "python",
   "nbconvert_exporter": "python",
   "pygments_lexer": "ipython3",
   "version": "3.10.13"
  }
 },
 "nbformat": 4,
 "nbformat_minor": 5
}
